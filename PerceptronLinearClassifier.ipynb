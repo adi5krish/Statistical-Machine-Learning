{
 "cells": [
  {
   "cell_type": "code",
   "execution_count": 1,
   "metadata": {},
   "outputs": [],
   "source": [
    "import matplotlib.pyplot as plt\n",
    "import numpy as np"
   ]
  },
  {
   "cell_type": "code",
   "execution_count": 2,
   "metadata": {},
   "outputs": [],
   "source": [
    "dataSet = np.array([[0, 0],[1, 0],[2, 0],[0, 1],[1, 1],[2, 1],[3, 1], [4, 1],[5, 1],[100, 1],[0, 2],[1, 2],[2, 2],[3, 2],\n",
    "                    [4, 2],[5, 2],[100, 2],[3, 3],[4, 3],[5, 3],[100, 3]])\n",
    "x = dataSet\n",
    "N = dataSet.shape[0]\n"
   ]
  },
  {
   "cell_type": "code",
   "execution_count": 42,
   "metadata": {
    "scrolled": true
   },
   "outputs": [
    {
     "data": {
      "text/plain": [
       "array([[ 1],\n",
       "       [ 1],\n",
       "       [ 1],\n",
       "       [ 1],\n",
       "       [ 1],\n",
       "       [ 1],\n",
       "       [ 1],\n",
       "       [ 1],\n",
       "       [ 1],\n",
       "       [ 1],\n",
       "       [ 1],\n",
       "       [ 1],\n",
       "       [ 1],\n",
       "       [ 1],\n",
       "       [ 1],\n",
       "       [ 1],\n",
       "       [ 1],\n",
       "       [-1],\n",
       "       [-1],\n",
       "       [-1],\n",
       "       [-1]])"
      ]
     },
     "execution_count": 42,
     "metadata": {},
     "output_type": "execute_result"
    }
   ],
   "source": [
    "output_data = []\n",
    "\n",
    "for i in range(0,len(dataSet)):\n",
    "    if(dataSet[i][1]  <= 2):\n",
    "        output_data.append(1)\n",
    "    else:\n",
    "        output_data.append(-1)\n",
    "        \n",
    "output_data = np.array(output_data)\n",
    "output_data = np.reshape(output_data, (21,1))\n",
    "output_data"
   ]
  },
  {
   "cell_type": "code",
   "execution_count": 54,
   "metadata": {},
   "outputs": [],
   "source": [
    "c1 = np.asarray(list(filter(lambda x : x[1] <= 2, dataSet)))\n",
    "c2 = np.asarray(list(filter(lambda x: x[1] > 2, dataSet)))"
   ]
  },
  {
   "cell_type": "code",
   "execution_count": 55,
   "metadata": {},
   "outputs": [
    {
     "data": {
      "text/plain": [
       "(2, 1)"
      ]
     },
     "execution_count": 55,
     "metadata": {},
     "output_type": "execute_result"
    }
   ],
   "source": [
    "W = np.asarray([0,0])\n",
    "W = np.reshape(W, (2,1))\n",
    "b = np.asarray([1.5])\n",
    "b = np.reshape(b, (1,1))\n",
    "\n",
    "W.shape\n",
    "# b.shape"
   ]
  },
  {
   "cell_type": "code",
   "execution_count": 56,
   "metadata": {},
   "outputs": [],
   "source": [
    "def find_accuracy(y):\n",
    "    predictions = np.zeros(21)\n",
    "    accuracy = 0\n",
    "    misclassified_input = []\n",
    "    \n",
    "    for i in range(0,len(y)):\n",
    "        if(y[i][0] > y[i][1]):\n",
    "            predictions[i] = 1\n",
    "        else:\n",
    "            predictions[i] = -1\n",
    "            \n",
    "        if(predictions[i] == output_data[i]):\n",
    "            accuracy+=1\n",
    "        else:\n",
    "            misclassified_input.append(dataSet[i])        \n",
    "    misclassified_input = np.asarray(misclassified_input)\n",
    "    print(misclassified_input)\n",
    "    \n",
    "#     if(len(misclassified_input) < 10):\n",
    "#         abline(slope = -W[0]/W[1], intercept = -b/W[1])\n",
    "    \n",
    "    print(accuracy)\n",
    "    accuracy = accuracy / N\n",
    "    print(accuracy * 100)"
   ]
  },
  {
   "cell_type": "code",
   "execution_count": 61,
   "metadata": {},
   "outputs": [],
   "source": [
    "# Source: https://stackoverflow.com/questions/7941226/how-to-add-line-based-on-slope-and-intercept-in-matplotlib\n",
    "def abline(slope=-0.00133511/1.92622413, intercept=3.04885766/1.92622413):\n",
    "    \"\"\"Plot a line from slope and intercept\"\"\"\n",
    "#     axes = plot.gca()\n",
    "    \n",
    "    figure = plt.figure(figsize=(20, 20))\n",
    "    axes= figure.add_axes([0,0,1,1])\n",
    "    axes.scatter(c1[:, 0], c1[:, 1], color=\"blue\")\n",
    "    axes.scatter(c2[:, 0], c2[:, 1], color=\"red\")\n",
    "    \n",
    "    x_vals = np.array(axes.get_xlim())\n",
    "    y_vals = intercept + slope * x_vals\n",
    "    plt.plot(x_vals, y_vals, '-')\n",
    "    plt.show()"
   ]
  },
  {
   "cell_type": "code",
   "execution_count": 74,
   "metadata": {
    "scrolled": true
   },
   "outputs": [
    {
     "name": "stdout",
     "output_type": "stream",
     "text": [
      "[[  0   0]\n",
      " [  1   0]\n",
      " [  2   0]\n",
      " [  1   1]\n",
      " [  2   1]\n",
      " [  3   1]\n",
      " [  4   1]\n",
      " [  5   1]\n",
      " [100   1]\n",
      " [  2   2]\n",
      " [  3   2]\n",
      " [  4   2]\n",
      " [  5   2]\n",
      " [100   2]]\n",
      "7\n",
      "33.33333333333333\n",
      "iteration 1, error : 9.387422163094932 , prev_parameters : [array([[-1.61425185],\n",
      "       [-0.57423645]]), array([[1.58030695]])] , updated_parameters : [array([[-0.4229692 ],\n",
      "       [-0.51484276]]), array([[1.67418117]])] \n"
     ]
    }
   ],
   "source": [
    "num_iter = 1\n",
    "learning_rate = 1e-2\n",
    "prev_error = np.zeros(21)\n",
    "epsilon = 1e-3\n",
    "\n",
    "for k in range(num_iter):\n",
    "    \n",
    "    yhat = x.dot(W) + b\n",
    "    yhat = 1.0/ (1.0 + np.exp(-yhat))\n",
    "    error = output_data - yhat            # Error term\n",
    "    W_prev = W\n",
    "    b_prev = b\n",
    "    \n",
    "#     if(abs(np.sum(error) - np.sum(prev_error)) <  epsilon):\n",
    "#         print(\"Algorithm Converged\")\n",
    "#     abline(slope = -W[0]/W[1], intercept = -b/W[1])\n",
    "#         break\n",
    "        \n",
    "    delta_w = np.transpose(x).dot(error)\n",
    "    delta_b = np.sum(error)\n",
    "\n",
    "    W = W_prev + learning_rate * delta_w\n",
    "    b = b_prev + learning_rate * delta_b\n",
    "    \n",
    "    y =  (-1/W[1]) * (W[0] * x + b)  # w0*x1 + w1*y + b = 0\n",
    "    find_accuracy(y)\n",
    "    prev_error = error\n",
    "    print(\"iteration {0}, error : {3} , prev_parameters : {1} , updated_parameters : {2} \".format(k+1,[W_prev,b_prev], [W,b] ,np.sum(error)))"
   ]
  },
  {
   "cell_type": "code",
   "execution_count": 73,
   "metadata": {
    "scrolled": true
   },
   "outputs": [
    {
     "data": {
      "text/plain": [
       "array([-2.81112746])"
      ]
     },
     "execution_count": 73,
     "metadata": {},
     "output_type": "execute_result"
    }
   ],
   "source": [
    "slope = -W[0]/W[1]\n",
    "slope\n",
    "# intercept = -b/W[1]\n",
    "# intercept.shape"
   ]
  },
  {
   "cell_type": "code",
   "execution_count": null,
   "metadata": {
    "scrolled": true
   },
   "outputs": [],
   "source": [
    "error = output_data - pred_output\n",
    "error"
   ]
  },
  {
   "cell_type": "code",
   "execution_count": null,
   "metadata": {},
   "outputs": [],
   "source": []
  }
 ],
 "metadata": {
  "kernelspec": {
   "display_name": "Python 3",
   "language": "python",
   "name": "python3"
  },
  "language_info": {
   "codemirror_mode": {
    "name": "ipython",
    "version": 3
   },
   "file_extension": ".py",
   "mimetype": "text/x-python",
   "name": "python",
   "nbconvert_exporter": "python",
   "pygments_lexer": "ipython3",
   "version": "3.6.8"
  }
 },
 "nbformat": 4,
 "nbformat_minor": 2
}
